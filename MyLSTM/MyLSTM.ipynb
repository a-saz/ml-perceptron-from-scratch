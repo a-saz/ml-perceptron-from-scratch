{
 "cells": [
  {
   "cell_type": "code",
   "execution_count": 1,
   "id": "e88c0330",
   "metadata": {},
   "outputs": [],
   "source": [
    "import numpy as np\n",
    "import torch \n",
    "import torch.nn as nn\n",
    "import torch.nn.functional as F\n",
    "import matplotlib.pyplot as plt"
   ]
  },
  {
   "cell_type": "code",
   "execution_count": 2,
   "id": "b534a73d",
   "metadata": {},
   "outputs": [],
   "source": [
    "text = open('shakespeare.txt', 'r').read()\n",
    "text = text.lower()\n",
    "chars = sorted(list(set(text)))"
   ]
  },
  {
   "cell_type": "code",
   "execution_count": 3,
   "id": "a9a60145",
   "metadata": {},
   "outputs": [
    {
     "data": {
      "text/plain": [
       "39"
      ]
     },
     "execution_count": 3,
     "metadata": {},
     "output_type": "execute_result"
    }
   ],
   "source": [
    "stoi = {s: i for i,s in enumerate(chars)}\n",
    "itos = {i: s for i,s in enumerate(chars)}\n",
    "vsize = len(chars)\n",
    "vsize"
   ]
  },
  {
   "cell_type": "code",
   "execution_count": 4,
   "id": "abad66a9",
   "metadata": {},
   "outputs": [
    {
     "name": "stdout",
     "output_type": "stream",
     "text": [
      "['\\n', ' ', '!', '$', '&', \"'\", ',', '-', '.', '3', ':', ';', '?', 'a', 'b', 'c', 'd', 'e', 'f', 'g', 'h', 'i', 'j', 'k', 'l', 'm', 'n', 'o', 'p', 'q', 'r', 's', 't', 'u', 'v', 'w', 'x', 'y', 'z']\n"
     ]
    }
   ],
   "source": [
    "print(chars)"
   ]
  },
  {
   "cell_type": "code",
   "execution_count": 5,
   "id": "243e4803",
   "metadata": {},
   "outputs": [
    {
     "data": {
      "text/plain": [
       "1115394"
      ]
     },
     "execution_count": 5,
     "metadata": {},
     "output_type": "execute_result"
    }
   ],
   "source": [
    "data = torch.tensor([stoi[ch] for ch in text])\n",
    "len(data)"
   ]
  },
  {
   "cell_type": "code",
   "execution_count": 6,
   "id": "68703d94",
   "metadata": {},
   "outputs": [
    {
     "name": "stdout",
     "output_type": "stream",
     "text": [
      "first citizen:\n",
      "before we proceed any further, hear me speak.\n",
      "\n",
      "all:\n",
      "speak, speak.\n",
      "\n",
      "first citizen:\n",
      "you are all resolved rather to die than to famish?\n",
      "\n",
      "all:\n",
      "resolved. resolved.\n",
      "\n",
      "first citizen:\n",
      "first, you know caius marcius is chief enemy to the people.\n",
      "\n",
      "all:\n",
      "we know't, we know't.\n",
      "\n",
      "first citizen:\n",
      "let us\n"
     ]
    }
   ],
   "source": [
    "print(''.join(itos[i.item()] for i in data[0:300]))"
   ]
  },
  {
   "cell_type": "code",
   "execution_count": 146,
   "id": "07935996",
   "metadata": {},
   "outputs": [],
   "source": [
    "class LSTM(nn.Module):\n",
    "    def __init__(self, input_size, hidden_size, out_size):\n",
    "        super(LSTM, self).__init__()\n",
    "        \n",
    "        self.hsize = hidden_size\n",
    "        self.tanh = nn.Tanh()\n",
    "        self.sigmoid = nn.Sigmoid()\n",
    "        \n",
    "        self.i_x = nn.Linear(input_size, hidden_size)\n",
    "        self.i_h = nn.Linear(hidden_size, hidden_size, bias=False)\n",
    "        \n",
    "        self.f_x = nn.Linear(input_size, hidden_size)\n",
    "        self.f_h = nn.Linear(hidden_size, hidden_size, bias=False)\n",
    "        \n",
    "        self.o_x = nn.Linear(input_size, hidden_size)\n",
    "        self.o_h = nn.Linear(hidden_size, hidden_size, bias=False)\n",
    "        \n",
    "        self.z_x = nn.Linear(input_size, hidden_size)\n",
    "        self.z_h = nn.Linear(hidden_size, hidden_size, bias=False)\n",
    "        \n",
    "        self.proj = nn.Linear(hidden_size, out_size, bias=False)\n",
    "        \n",
    "    def forward(self, x, hc):\n",
    "        hidden, cell = hc\n",
    "        \n",
    "        i = self.sigmoid(self.i_x(x) + self.i_h(hidden))\n",
    "        f = self.sigmoid(self.f_x(x) + self.f_h(hidden))\n",
    "        o = self.sigmoid(self.o_x(x) + self.o_h(hidden))\n",
    "        z = self.tanh(self.z_x(x) + self.z_h(hidden))\n",
    "        \n",
    "        cell = f * cell + i * z\n",
    "        hidden = self.tanh(cell) * o\n",
    "        # project ouput\n",
    "        output = self.proj(hidden)\n",
    "        return output, (hidden, cell)\n",
    "    \n",
    "    def init_hidden(self):\n",
    "        return torch.zeros(1, self.hsize, requires_grad=False), torch.zeros(1, self.hsize, requires_grad=False)"
   ]
  },
  {
   "cell_type": "code",
   "execution_count": 151,
   "id": "c124f0db",
   "metadata": {},
   "outputs": [
    {
     "data": {
      "text/plain": [
       "<torch._C.Generator at 0x110a4add0>"
      ]
     },
     "execution_count": 151,
     "metadata": {},
     "output_type": "execute_result"
    }
   ],
   "source": [
    "torch.manual_seed(1337)"
   ]
  },
  {
   "cell_type": "code",
   "execution_count": 152,
   "id": "f4809991",
   "metadata": {
    "scrolled": true
   },
   "outputs": [
    {
     "name": "stdout",
     "output_type": "stream",
     "text": [
      "i: 0 \tLoss: 3.6721181869506836\n",
      "i: 1000 \tLoss: 2.2001471519470215\n",
      "Accuracy: 0.346\n",
      "i: 2000 \tLoss: 2.0892083644866943\n",
      "Accuracy: 0.397\n",
      "i: 3000 \tLoss: 1.7285085916519165\n",
      "Accuracy: 0.439\n",
      "i: 4000 \tLoss: 1.715765118598938\n",
      "Accuracy: 0.487\n",
      "i: 5000 \tLoss: 1.8033556938171387\n",
      "Accuracy: 0.467\n",
      "i: 6000 \tLoss: 1.5464808940887451\n",
      "Accuracy: 0.477\n",
      "i: 7000 \tLoss: 2.1345925331115723\n",
      "Accuracy: 0.494\n",
      "i: 8000 \tLoss: 2.041067123413086\n",
      "Accuracy: 0.48\n",
      "i: 9000 \tLoss: 1.8424890041351318\n",
      "Accuracy: 0.523\n",
      "i: 10000 \tLoss: 1.5898349285125732\n",
      "Accuracy: 0.498\n",
      "i: 11000 \tLoss: 1.6855829954147339\n",
      "Accuracy: 0.5\n",
      "i: 12000 \tLoss: 1.7852307558059692\n",
      "Accuracy: 0.491\n",
      "i: 13000 \tLoss: 1.9361927509307861\n",
      "Accuracy: 0.498\n",
      "i: 14000 \tLoss: 1.4912225008010864\n",
      "Accuracy: 0.498\n",
      "i: 15000 \tLoss: 1.4771208763122559\n",
      "Accuracy: 0.504\n",
      "i: 16000 \tLoss: 1.7489933967590332\n",
      "Accuracy: 0.529\n",
      "i: 17000 \tLoss: 1.319865107536316\n",
      "Accuracy: 0.505\n",
      "i: 18000 \tLoss: 1.3566484451293945\n",
      "Accuracy: 0.532\n",
      "i: 19000 \tLoss: 1.8048787117004395\n",
      "Accuracy: 0.503\n",
      "i: 20000 \tLoss: 1.321783423423767\n",
      "Accuracy: 0.542\n",
      "i: 21000 \tLoss: 2.240865468978882\n",
      "Accuracy: 0.524\n",
      "i: 22000 \tLoss: 1.5364397764205933\n",
      "Accuracy: 0.514\n",
      "i: 23000 \tLoss: 1.326750636100769\n",
      "Accuracy: 0.531\n",
      "i: 24000 \tLoss: 1.268004298210144\n",
      "Accuracy: 0.544\n",
      "i: 25000 \tLoss: 1.5178810358047485\n",
      "Accuracy: 0.492\n",
      "i: 26000 \tLoss: 1.4219189882278442\n",
      "Accuracy: 0.519\n",
      "i: 27000 \tLoss: 1.8537712097167969\n",
      "Accuracy: 0.511\n",
      "i: 28000 \tLoss: 2.1550893783569336\n",
      "Accuracy: 0.549\n",
      "i: 29000 \tLoss: 1.4031343460083008\n",
      "Accuracy: 0.542\n",
      "i: 30000 \tLoss: 2.0836730003356934\n",
      "Accuracy: 0.514\n",
      "i: 31000 \tLoss: 1.4467881917953491\n",
      "Accuracy: 0.551\n",
      "i: 32000 \tLoss: 1.5823545455932617\n",
      "Accuracy: 0.543\n",
      "i: 33000 \tLoss: 2.028564453125\n",
      "Accuracy: 0.539\n",
      "i: 34000 \tLoss: 1.4543671607971191\n",
      "Accuracy: 0.531\n",
      "i: 35000 \tLoss: 1.1907944679260254\n",
      "Accuracy: 0.551\n",
      "i: 36000 \tLoss: 1.3434683084487915\n",
      "Accuracy: 0.531\n",
      "i: 37000 \tLoss: 1.2169941663742065\n",
      "Accuracy: 0.554\n",
      "i: 38000 \tLoss: 1.1560949087142944\n",
      "Accuracy: 0.544\n",
      "i: 39000 \tLoss: 1.5268831253051758\n",
      "Accuracy: 0.564\n",
      "i: 40000 \tLoss: 1.517435908317566\n",
      "Accuracy: 0.539\n",
      "i: 41000 \tLoss: 1.490012764930725\n",
      "Accuracy: 0.534\n",
      "i: 42000 \tLoss: 1.397324800491333\n",
      "Accuracy: 0.537\n",
      "i: 43000 \tLoss: 2.218661308288574\n",
      "Accuracy: 0.523\n",
      "i: 44000 \tLoss: 1.863540530204773\n",
      "Accuracy: 0.515\n",
      "i: 45000 \tLoss: 1.6360979080200195\n",
      "Accuracy: 0.539\n",
      "i: 46000 \tLoss: 1.2921353578567505\n",
      "Accuracy: 0.538\n",
      "i: 47000 \tLoss: 1.6815310716629028\n",
      "Accuracy: 0.549\n",
      "i: 48000 \tLoss: 1.0227185487747192\n",
      "Accuracy: 0.544\n",
      "i: 49000 \tLoss: 1.811275601387024\n",
      "Accuracy: 0.547\n"
     ]
    }
   ],
   "source": [
    "# hyperparams\n",
    "hidden_size = 100\n",
    "iters = 50_000\n",
    "lr = 0.01\n",
    "\n",
    "# tracking and validation vars\n",
    "print_every_N = 1000\n",
    "seqlen = 50\n",
    "losses = []\n",
    "correct = 0\n",
    "\n",
    "# initialize LSTM\n",
    "lstm = LSTM(vsize, hidden_size, vsize)\n",
    "\n",
    "# optimizer\n",
    "optim = torch.optim.Adam(lstm.parameters(), lr=lr)\n",
    "\n",
    "# random sampling from data\n",
    "idxs = torch.randint(0, 1_000_000, size=(iters,))\n",
    "\n",
    "for i, idx in enumerate(idxs):\n",
    "    # reset optimizer and hidden/cell states\n",
    "    optim.zero_grad()\n",
    "    hc = lstm.init_hidden()\n",
    "    \n",
    "    # Get x, y; encode, prepare output tensor\n",
    "    x = data[idx : idx+seqlen]\n",
    "    y = data[idx+1 : idx+seqlen+1]\n",
    "    x_enc = F.one_hot(x, vsize).view(seqlen, 1, vsize).float()\n",
    "    out = torch.zeros((seqlen, vsize))\n",
    "    \n",
    "    # Forward propagation\n",
    "    for j, ch in enumerate(x_enc):\n",
    "        out[j], hc = lstm.forward(ch, hc)\n",
    "        \n",
    "    loss = F.cross_entropy(out, y)\n",
    "    \n",
    "    # Backpropagation\n",
    "    loss.backward()\n",
    "    optim.step()\n",
    "    \n",
    "    # Accuracy check\n",
    "    choice = torch.argmax(out[-1])\n",
    "    if choice == y[-1]:\n",
    "        correct += 1\n",
    "        \n",
    "    # loss and accuracy tracking\n",
    "    if i % print_every_N == 0:\n",
    "        losses.append(loss.item())\n",
    "        print(f\"i: {i} \\tLoss: {loss}\")\n",
    "        \n",
    "        if i > 0:\n",
    "            print(f\"Accuracy: {correct / print_every_N}\")\n",
    "            correct = 0\n",
    "        \n",
    "    \n",
    "    \n",
    "    "
   ]
  },
  {
   "cell_type": "code",
   "execution_count": 117,
   "id": "5e089888",
   "metadata": {},
   "outputs": [
    {
     "data": {
      "image/png": "[encoded data removed]",
      "text/plain": [
       "<Figure size 640x480 with 1 Axes>"
      ]
     },
     "metadata": {},
     "output_type": "display_data"
    }
   ],
   "source": [
    "plt.plot(losses)\n",
    "plt.show()\n"
   ]
  },
  {
   "cell_type": "code",
   "execution_count": 156,
   "id": "9198c01f",
   "metadata": {},
   "outputs": [],
   "source": [
    "with torch.no_grad():\n",
    "    size = 2000\n",
    "    \n",
    "    gen = torch.tensor([8] * 2000, dtype=int)\n",
    "\n",
    "    i = 50\n",
    "    \n",
    "    while i < size:\n",
    "        hc = L1.init_hidden()\n",
    "        context = F.one_hot(gen[i-50 : i], vsize).view( 50 , vsize).float()\n",
    "\n",
    "        out = torch.zeros((50, vsize))\n",
    "        # Forward propagation\n",
    "        for j, ch in enumerate(context):\n",
    "            out[j], hc = L1.forward(ch, hc)\n",
    "        \n",
    "        distr = torch.distributions.Categorical(probs=F.softmax(out[-1], dim=0))\n",
    "        choice = distr.sample()\n",
    "\n",
    "        gen[i] = choice\n",
    "        i += 1"
   ]
  },
  {
   "cell_type": "code",
   "execution_count": 157,
   "id": "0440adf4",
   "metadata": {
    "scrolled": false
   },
   "outputs": [
    {
     "name": "stdout",
     "output_type": "stream",
     "text": [
      "..................................................\n",
      "\n",
      "valtin:\n",
      "whilst thy mother this away's will 'less and be by\n",
      "god's lean to feat's in the\n",
      "wrinh and looks 'less have the slucking greeting ere and say,\n",
      "that, marry this degened him day away.\n",
      "\n",
      "cominius:\n",
      "this had now and srown clarence midsat you have be more pardons hereford.\n",
      "have furtesh this his favelts\n",
      "i'd bend off though gland souncty's honour\n",
      "must let my fault thy prove me\n",
      "bo\n",
      "'-came in the blood a\n",
      "but this clokent night; on me\n",
      "alsice and dost lius cudssice:\n",
      "i enemity henry vi:\n",
      "afterm, be go be the worthy prisonea?\n",
      "\n",
      "clarence:\n",
      "horted he is ry chrishe for breeds are was unto what thou\n",
      "chowing a goods i entreer aidle from\n",
      "whoms to peerticn larder'd to stoused madam fear\n",
      "be, give not honour'd bough, thereaven\n",
      "whose foely yes queld up this of oulse\n",
      "i will not while me. that now i am make him.\n",
      "\n",
      "cleomits;\n",
      "and debence with things denay my cononicsup senan'd,\n",
      "to with the nature, and that hark:\n",
      "i stay, since shows of glassic of this fair,\n",
      "to still, dow hath bondnecudes of the t cunning own less.\n",
      "meore, here, spruth her grown. high poor pod.\n",
      "\n",
      "hermione:\n",
      "unbitt honou upon theight with fe abrols, wast of the tad,\n",
      "whitige atnesth, and i must weak-; and be there's a pound to i amet.\n",
      "\n",
      "buckingham:\n",
      "what stell so made to me cry.\n",
      "\n",
      "paulina:\n",
      "swent ordeed have will were on here,\n",
      "and with my king now time it coantion,\n",
      "in al scewics appeare, now, at these this cherfulablerging brought so heast brutio:\n",
      "have these bean, this fundow and your conveinarlia:\n",
      "let ratesty friends to my morily of their charth be mars'd\n",
      "was have me done! most bire, he was citizens of panes\n",
      "of mother let me thereshimsue fathire-'mess, which seaches,\n",
      "show, condem dread before,\n",
      "but folle. o let their pay saint, though you signaly wordlurddona:\n",
      "rised mad! these cleong by then eoun'd my input oich all a bor:\n",
      "say so warlight abwornon his lies have what still.\n",
      "\n",
      "king richard ii:\n",
      "for severe, i am bittless on chursherne. if i old mambless of\n",
      "i thank them traitortra;\n",
      "look ever \n"
     ]
    }
   ],
   "source": [
    "print(''.join([itos[i.item()] for i in gen]))"
   ]
  }
 ],
 "metadata": {
  "kernelspec": {
   "display_name": "Python 3 (ipykernel)",
   "language": "python",
   "name": "python3"
  },
  "language_info": {
   "codemirror_mode": {
    "name": "ipython",
    "version": 3
   },
   "file_extension": ".py",
   "mimetype": "text/x-python",
   "name": "python",
   "nbconvert_exporter": "python",
   "pygments_lexer": "ipython3",
   "version": "3.11.5"
  }
 },
 "nbformat": 4,
 "nbformat_minor": 5
}
