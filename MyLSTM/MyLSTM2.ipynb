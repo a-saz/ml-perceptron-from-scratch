{
 "cells": [
  {
   "cell_type": "code",
   "execution_count": 17,
   "id": "e88c0330",
   "metadata": {},
   "outputs": [],
   "source": [
    "import numpy as np\n",
    "import torch \n",
    "import torch.nn as nn\n",
    "import torch.nn.functional as F\n",
    "import matplotlib.pyplot as plt"
   ]
  },
  {
   "cell_type": "code",
   "execution_count": 18,
   "id": "b534a73d",
   "metadata": {},
   "outputs": [],
   "source": [
    "text = open('shakespeare.txt', 'r').read()\n",
    "text = text.lower()\n",
    "chars = sorted(list(set(text)))"
   ]
  },
  {
   "cell_type": "code",
   "execution_count": 91,
   "id": "a9a60145",
   "metadata": {},
   "outputs": [
    {
     "data": {
      "text/plain": [
       "39"
      ]
     },
     "execution_count": 91,
     "metadata": {},
     "output_type": "execute_result"
    }
   ],
   "source": [
    "stoi = {s: i for i,s in enumerate(chars)}\n",
    "itos = {i: s for i,s in enumerate(chars)}\n",
    "vsize = len(chars)\n",
    "vsize"
   ]
  },
  {
   "cell_type": "code",
   "execution_count": 20,
   "id": "abad66a9",
   "metadata": {},
   "outputs": [
    {
     "name": "stdout",
     "output_type": "stream",
     "text": [
      "['\\n', ' ', '!', '$', '&', \"'\", ',', '-', '.', '3', ':', ';', '?', 'a', 'b', 'c', 'd', 'e', 'f', 'g', 'h', 'i', 'j', 'k', 'l', 'm', 'n', 'o', 'p', 'q', 'r', 's', 't', 'u', 'v', 'w', 'x', 'y', 'z']\n"
     ]
    }
   ],
   "source": [
    "print(chars)"
   ]
  },
  {
   "cell_type": "code",
   "execution_count": 90,
   "id": "243e4803",
   "metadata": {},
   "outputs": [
    {
     "data": {
      "text/plain": [
       "1115394"
      ]
     },
     "execution_count": 90,
     "metadata": {},
     "output_type": "execute_result"
    }
   ],
   "source": [
    "data = torch.tensor([stoi[ch] for ch in text])\n",
    "len(data)"
   ]
  },
  {
   "cell_type": "code",
   "execution_count": 92,
   "id": "68703d94",
   "metadata": {},
   "outputs": [
    {
     "name": "stdout",
     "output_type": "stream",
     "text": [
      "first citizen:\n",
      "before we proceed any further, hear me speak.\n",
      "\n",
      "all:\n",
      "speak, speak.\n",
      "\n",
      "first citizen:\n",
      "you are all resolved rather to die than to famish?\n",
      "\n",
      "all:\n",
      "resolved. resolved.\n",
      "\n",
      "first citizen:\n",
      "first, you know caius marcius is chief enemy to the people.\n",
      "\n",
      "all:\n",
      "we know't, we know't.\n",
      "\n",
      "first citizen:\n",
      "let us\n"
     ]
    }
   ],
   "source": [
    "print(''.join(itos[i.item()] for i in data[0:300]))"
   ]
  },
  {
   "cell_type": "code",
   "execution_count": 78,
   "id": "2d149e22",
   "metadata": {},
   "outputs": [],
   "source": [
    "class LSTM(nn.Module):\n",
    "    def __init__(self, input_size, hidden_size, output_size):\n",
    "        super(LSTM, self).__init__()\n",
    "        \n",
    "        self.hidden_size = hidden_size\n",
    "        self.tanh = nn.Tanh()\n",
    "        self.sigmoid = nn.Sigmoid()\n",
    "        \n",
    "        self.igate = nn.Linear(input_size + hidden_size, hidden_size) # input\n",
    "        self.fgate = nn.Linear(input_size + hidden_size, hidden_size) # forget\n",
    "        self.ogate = nn.Linear(input_size + hidden_size, hidden_size) # output\n",
    "        self.candidate = nn.Linear(input_size + hidden_size, hidden_size) # C-tilde\n",
    "        self.h2o = nn.Linear(hidden_size, output_size) # map hidden layer to outputs\n",
    "        \n",
    "    def forward(self, x, hc):\n",
    "        hidden, cell = hc\n",
    "\n",
    "        combine = torch.cat((x, hidden), 1)\n",
    "\n",
    "        i = self.sigmoid(self.igate(combine))\n",
    "        f = self.sigmoid(self.fgate(combine))\n",
    "        o = self.sigmoid(self.ogate(combine))\n",
    "        # update cell state\n",
    "        cand = self.tanh(self.candidate(combine))\n",
    "        cell = cell * f + cand * i\n",
    "        # return output, next hidden & new cell\n",
    "        hidden = self.tanh(cell) * o\n",
    "        # project output to desired outsize\n",
    "        out = self.h2o(hidden)\n",
    "        return out.squeeze(1), (hidden, cell)\n",
    "        \n",
    "    def init_hidden(self):\n",
    "        return torch.zeros(1, self.hidden_size, requires_grad=False), torch.zeros(1, self.hidden_size, requires_grad=False)"
   ]
  },
  {
   "cell_type": "code",
   "execution_count": 93,
   "id": "f4809991",
   "metadata": {},
   "outputs": [
    {
     "name": "stdout",
     "output_type": "stream",
     "text": [
      "i: 0 \tidx: 357201 \tLoss: 3.662724494934082 \tOutMax: 0.1191447451710701 \tArgMax: 19\n",
      "i: 1000 \tAccuracy: 0.366\n",
      "i: 2000 \tidx: 669762 \tLoss: 1.9900102615356445 \tOutMax: 7.8255181312561035 \tArgMax: 26\n",
      "i: 2000 \tAccuracy: 0.413\n",
      "i: 3000 \tAccuracy: 0.453\n",
      "i: 4000 \tidx: 541448 \tLoss: 2.003615379333496 \tOutMax: 9.443570137023926 \tArgMax: 1\n",
      "i: 4000 \tAccuracy: 0.424\n",
      "i: 5000 \tAccuracy: 0.474\n",
      "i: 6000 \tidx: 369231 \tLoss: 1.8407559394836426 \tOutMax: 9.98324203491211 \tArgMax: 1\n",
      "i: 6000 \tAccuracy: 0.508\n",
      "i: 7000 \tAccuracy: 0.492\n",
      "i: 8000 \tidx: 632351 \tLoss: 1.309738278388977 \tOutMax: 9.508337020874023 \tArgMax: 32\n",
      "i: 8000 \tAccuracy: 0.512\n",
      "i: 9000 \tAccuracy: 0.504\n",
      "i: 10000 \tidx: 230936 \tLoss: 2.0606513023376465 \tOutMax: 9.130377769470215 \tArgMax: 26\n",
      "i: 10000 \tAccuracy: 0.52\n",
      "i: 11000 \tAccuracy: 0.5\n",
      "i: 12000 \tidx: 25480 \tLoss: 1.6349611282348633 \tOutMax: 13.04227066040039 \tArgMax: 15\n",
      "i: 12000 \tAccuracy: 0.515\n",
      "i: 13000 \tAccuracy: 0.528\n",
      "i: 14000 \tidx: 567873 \tLoss: 1.5604262351989746 \tOutMax: 12.866466522216797 \tArgMax: 32\n",
      "i: 14000 \tAccuracy: 0.505\n",
      "i: 15000 \tAccuracy: 0.525\n",
      "i: 16000 \tidx: 287321 \tLoss: 1.3311316967010498 \tOutMax: 11.859850883483887 \tArgMax: 26\n",
      "i: 16000 \tAccuracy: 0.518\n",
      "i: 17000 \tAccuracy: 0.512\n",
      "i: 18000 \tidx: 449935 \tLoss: 1.389597773551941 \tOutMax: 9.97944450378418 \tArgMax: 34\n",
      "i: 18000 \tAccuracy: 0.514\n",
      "i: 19000 \tAccuracy: 0.535\n",
      "i: 20000 \tidx: 344594 \tLoss: 1.3587489128112793 \tOutMax: 10.131460189819336 \tArgMax: 1\n",
      "i: 20000 \tAccuracy: 0.55\n",
      "i: 21000 \tAccuracy: 0.523\n",
      "i: 22000 \tidx: 984804 \tLoss: 1.5968427658081055 \tOutMax: 11.23991870880127 \tArgMax: 32\n",
      "i: 22000 \tAccuracy: 0.539\n",
      "i: 23000 \tAccuracy: 0.508\n",
      "i: 24000 \tidx: 487612 \tLoss: 1.7445133924484253 \tOutMax: 9.89830493927002 \tArgMax: 32\n",
      "i: 24000 \tAccuracy: 0.503\n",
      "i: 25000 \tAccuracy: 0.511\n",
      "i: 26000 \tidx: 975240 \tLoss: 1.6523452997207642 \tOutMax: 11.53466510772705 \tArgMax: 27\n",
      "i: 26000 \tAccuracy: 0.529\n",
      "i: 27000 \tAccuracy: 0.542\n",
      "i: 28000 \tidx: 574328 \tLoss: 1.4087574481964111 \tOutMax: 13.17206859588623 \tArgMax: 16\n",
      "i: 28000 \tAccuracy: 0.502\n",
      "i: 29000 \tAccuracy: 0.535\n",
      "i: 30000 \tidx: 2419 \tLoss: 1.8798919916152954 \tOutMax: 11.020368576049805 \tArgMax: 34\n",
      "i: 30000 \tAccuracy: 0.524\n",
      "i: 31000 \tAccuracy: 0.53\n",
      "i: 32000 \tidx: 72080 \tLoss: 2.0425918102264404 \tOutMax: 10.275497436523438 \tArgMax: 32\n",
      "i: 32000 \tAccuracy: 0.525\n",
      "i: 33000 \tAccuracy: 0.532\n",
      "i: 34000 \tidx: 517995 \tLoss: 1.902382254600525 \tOutMax: 9.4686279296875 \tArgMax: 33\n",
      "i: 34000 \tAccuracy: 0.505\n",
      "i: 35000 \tAccuracy: 0.522\n",
      "i: 36000 \tidx: 765274 \tLoss: 1.3661648035049438 \tOutMax: 12.254122734069824 \tArgMax: 17\n",
      "i: 36000 \tAccuracy: 0.513\n",
      "i: 37000 \tAccuracy: 0.537\n",
      "i: 38000 \tidx: 620640 \tLoss: 1.630042314529419 \tOutMax: 10.125344276428223 \tArgMax: 17\n",
      "i: 38000 \tAccuracy: 0.513\n",
      "i: 39000 \tAccuracy: 0.514\n",
      "i: 40000 \tidx: 782259 \tLoss: 1.4964637756347656 \tOutMax: 9.715781211853027 \tArgMax: 37\n",
      "i: 40000 \tAccuracy: 0.556\n",
      "i: 41000 \tAccuracy: 0.551\n",
      "i: 42000 \tidx: 219850 \tLoss: 1.216261625289917 \tOutMax: 11.932655334472656 \tArgMax: 1\n",
      "i: 42000 \tAccuracy: 0.527\n",
      "i: 43000 \tAccuracy: 0.529\n",
      "i: 44000 \tidx: 386826 \tLoss: 1.4132969379425049 \tOutMax: 12.673179626464844 \tArgMax: 1\n",
      "i: 44000 \tAccuracy: 0.546\n",
      "i: 45000 \tAccuracy: 0.51\n",
      "i: 46000 \tidx: 392261 \tLoss: 1.5782612562179565 \tOutMax: 9.481101036071777 \tArgMax: 32\n",
      "i: 46000 \tAccuracy: 0.535\n",
      "i: 47000 \tAccuracy: 0.536\n",
      "i: 48000 \tidx: 99497 \tLoss: 1.2586995363235474 \tOutMax: 12.18387508392334 \tArgMax: 27\n",
      "i: 48000 \tAccuracy: 0.548\n",
      "i: 49000 \tAccuracy: 0.539\n"
     ]
    }
   ],
   "source": [
    "# initialize\n",
    "lstm = LSTM(vsize, 100, vsize)\n",
    "optim = torch.optim.Adam(lstm.parameters(), lr=0.01)\n",
    "\n",
    "iters = 50_000\n",
    "everyN = 2000\n",
    "seqlen = 50\n",
    "losses = []\n",
    "# validation metrics\n",
    "valid_cycle = 1000\n",
    "correct = 0\n",
    "# random sampling from data\n",
    "idxs = torch.randint(0, 1_000_000, size=(iters,))\n",
    "\n",
    "for i, idx in enumerate(idxs):\n",
    "    # reset optimizer and hidden/cell states\n",
    "    optim.zero_grad()\n",
    "    hc = lstm.init_hidden()\n",
    "    \n",
    "    # Get x, y; encode, prepare output tensor\n",
    "    x = data[idx : idx+seqlen]\n",
    "    y = data[idx+1 : idx+seqlen+1]\n",
    "    x_enc = F.one_hot(x, vsize).view(seqlen, 1, vsize).float()\n",
    "    out = torch.zeros((seqlen, vsize))\n",
    "    \n",
    "    # Forward propagation\n",
    "    for j, ch in enumerate(x_enc):\n",
    "        out[j], hc = lstm.forward(ch, hc)        \n",
    "    \n",
    "    loss = F.cross_entropy(out, y)\n",
    "    \n",
    "    if i % everyN == 0:\n",
    "        losses.append(loss.item())\n",
    "        print(f\"i: {i} \\tidx: {idx} \\tLoss: {loss} \\tOutMax: {torch.max(out)} \\tArgMax: {torch.argmax(out[seqlen-1])}\")\n",
    "        # Max and ArgMax represent confidence and character choice\n",
    "        \n",
    "    # Accuracy check\n",
    "    choice = torch.argmax(out[seqlen-1])\n",
    "    if choice == y[seqlen-1]:\n",
    "        correct += 1\n",
    "        \n",
    "    if i % valid_cycle == 0 and i > 0:\n",
    "        print(f\"i: {i} \\tAccuracy: {correct / valid_cycle}\")\n",
    "        correct = 0\n",
    "    \n",
    "    # Backpropagation\n",
    "    loss.backward()\n",
    "    optim.step()\n",
    "    "
   ]
  },
  {
   "cell_type": "code",
   "execution_count": 94,
   "id": "5e089888",
   "metadata": {},
   "outputs": [
    {
     "data": {
      "image/png": "[encoded data removed]",
      "text/plain": [
       "<Figure size 640x480 with 1 Axes>"
      ]
     },
     "metadata": {},
     "output_type": "display_data"
    }
   ],
   "source": [
    "plt.plot(losses)\n",
    "plt.show()"
   ]
  },
  {
   "cell_type": "code",
   "execution_count": 99,
   "id": "9198c01f",
   "metadata": {},
   "outputs": [],
   "source": [
    "with torch.no_grad():\n",
    "    char = 13\n",
    "    hc = lstm.init_hidden()\n",
    "    \n",
    "    gen = \"\"\n",
    "    gen += str(itos[char])\n",
    "    \n",
    "    for i in range(2000):\n",
    "        char_enc = F.one_hot(torch.tensor([char]), vsize).view( 1 , vsize).float()\n",
    "        preds, hc = lstm.forward(char_enc, hc)\n",
    "        \n",
    "        distr = torch.distributions.Categorical(probs=F.softmax(preds, dim=1))\n",
    "        choice = distr.sample()\n",
    "\n",
    "        char = choice\n",
    "        gen += str(itos[char.item()])\n"
   ]
  },
  {
   "cell_type": "code",
   "execution_count": 100,
   "id": "45b891e4",
   "metadata": {},
   "outputs": [
    {
     "name": "stdout",
     "output_type": "stream",
     "text": [
      "as thou art with\n",
      "the life:\n",
      "gretidoung, my lord, you steil think as ye soul:\n",
      "i false. well, thoubto crace the urhbier, all derial:\n",
      "ongur thand my camently:\n",
      "sapent, somethit o, what yet me, by well dispabtess in is friar.\n",
      "bawding thou do.\n",
      "\n",
      "carings:\n",
      "or: hure, it was the you\n",
      "are gives peter, maly your marcius.\n",
      "\n",
      ", suffing.\n",
      "\n",
      "all:\n",
      "thou ww call is enchar:\n",
      "what hast thou thank your margaret:\n",
      "hood ii:\n",
      "marry? for for thing actiperur,\n",
      "king!\n",
      "sine, and gracious by no, belatter!\n",
      "\n",
      "juliet:\n",
      "doth gods; abour of, commew, norturance is peter in lows,\n",
      "o' is sent of jung-words, i bases, cannot be preseaps\n",
      "and vithour and his vaughter and not masting:\n",
      "too wast have i chatter i came in the mindered.\n",
      "\n",
      "saudys:\n",
      "stop himself shaughting of once me down and trease:\n",
      "givery of prese, he spervant mes lies.\n",
      "\n",
      "romeo:\n",
      "let them ear of bupes door, as thou make of glasted lepterer; madam;\n",
      "dest be course with with be indeed,\n",
      "seaph did sung laese do clifford's tranio,\n",
      "but death touch no warwick's to thought of soly do replet as thank\n",
      "procelest prayen, anorstit, i chanceder the way of\n",
      "ootal pin boung poor viwn breathe!\n",
      "\n",
      "a mine proades\n",
      "constant like you,\n",
      "woundly my call poor, your, thou hold in him heart\n",
      "in leant abouter any all whardon of lounce of your'.\n",
      "\n",
      "nery poliante:\n",
      "speed the umpeate my otherom\n",
      "and hing can lad sing, for your will pleasate courts we west proud, and high.\n",
      "\n",
      "duke vinckloate:\n",
      "copous bed, he distrumelares upon thy very charking,\n",
      "which hunting of less him: save of blinds art is at eull rearsia,\n",
      "pardl and that is the love the pring eltis wi, and shrift:\n",
      "be houch should we did.\n",
      "\n",
      "marcy:\n",
      "the clonsteding brought uncity paris; healy fit man my sight of\n",
      "yro feather here lively proshs she i thought, abound.\n",
      "thou, what beytly foasbrey in emfer,\n",
      "and then have nature; with pow your poor, i that; wrice conding,\n",
      ", powartigely piecess? or divald,\n",
      "kill wi all for i am hours you to the lass aid,\n",
      "grieve each hour of hear thy god's they if you wast ye.\n",
      "\n",
      "benvouirons:\n",
      "the concedmangerful 'glock your pitting whisd\n",
      "\n"
     ]
    }
   ],
   "source": [
    "print(gen)"
   ]
  },
  {
   "cell_type": "code",
   "execution_count": null,
   "id": "0440adf4",
   "metadata": {},
   "outputs": [],
   "source": []
  }
 ],
 "metadata": {
  "kernelspec": {
   "display_name": "Python 3 (ipykernel)",
   "language": "python",
   "name": "python3"
  },
  "language_info": {
   "codemirror_mode": {
    "name": "ipython",
    "version": 3
   },
   "file_extension": ".py",
   "mimetype": "text/x-python",
   "name": "python",
   "nbconvert_exporter": "python",
   "pygments_lexer": "ipython3",
   "version": "3.11.5"
  }
 },
 "nbformat": 4,
 "nbformat_minor": 5
}
