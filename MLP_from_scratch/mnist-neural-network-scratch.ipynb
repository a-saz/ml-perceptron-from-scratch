{
 "cells": [
  {
   "cell_type": "code",
   "execution_count": 1,
   "id": "8deada48",
   "metadata": {
    "_cell_guid": "b1076dfc-b9ad-4769-8c92-a6c4dae69d19",
    "_uuid": "8f2839f25d086af736a60e9eeb907d3b93b6e0e5",
    "execution": {
     "iopub.execute_input": "2023-12-30T19:08:07.968348Z",
     "iopub.status.busy": "2023-12-30T19:08:07.967787Z",
     "iopub.status.idle": "2023-12-30T19:08:09.288758Z",
     "shell.execute_reply": "2023-12-30T19:08:09.287219Z"
    },
    "papermill": {
     "duration": 1.334216,
     "end_time": "2023-12-30T19:08:09.292444",
     "exception": false,
     "start_time": "2023-12-30T19:08:07.958228",
     "status": "completed"
    },
    "tags": []
   },
   "outputs": [
    {
     "name": "stdout",
     "output_type": "stream",
     "text": [
      "/kaggle/input/digit-recognizer/sample_submission.csv\n",
      "/kaggle/input/digit-recognizer/train.csv\n",
      "/kaggle/input/digit-recognizer/test.csv\n"
     ]
    }
   ],
   "source": [
    "# imports\n",
    "import numpy as np \n",
    "import pandas as pd\n",
    "import matplotlib.pyplot as plt\n",
    "import seaborn as sns\n",
    "import csv\n",
    "import math\n",
    "import os\n",
    "\n",
    "for dirname, _, filenames in os.walk('/kaggle/input'):\n",
    "    for filename in filenames:\n",
    "        print(os.path.join(dirname, filename))"
   ]
  },
  {
   "cell_type": "code",
   "execution_count": 2,
   "id": "0b552d9a",
   "metadata": {
    "execution": {
     "iopub.execute_input": "2023-12-30T19:08:09.306885Z",
     "iopub.status.busy": "2023-12-30T19:08:09.306165Z",
     "iopub.status.idle": "2023-12-30T19:08:09.324047Z",
     "shell.execute_reply": "2023-12-30T19:08:09.322653Z"
    },
    "papermill": {
     "duration": 0.028968,
     "end_time": "2023-12-30T19:08:09.327559",
     "exception": false,
     "start_time": "2023-12-30T19:08:09.298591",
     "status": "completed"
    },
    "tags": []
   },
   "outputs": [],
   "source": [
    "# helper functions\n",
    "def standard(arr):\n",
    "    half_max = (np.max(arr) + 1) / 2.0\n",
    "    arr = (arr - half_max) / half_max\n",
    "    return arr\n",
    "def ReLU(x):\n",
    "    return np.array([i if i > 0 else 0 for i in x])\n",
    "def ReLU_prime(x):\n",
    "    return np.array([1 if i > 0 else 0 for i in x])\n",
    "def tanh_prime(x):\n",
    "    return 1 - (np.tanh(x) ** 2)\n",
    "def MSE(obs, pred):\n",
    "    return np.ndarray.mean((obs - pred) ** 2)\n",
    "def MSE_prime(obs, pred):\n",
    "    return 2.0 * (obs - pred) / len(obs)\n",
    "def softmax(x):\n",
    "    return np.exp(x) / np.sum(np.exp(x), axis=0)\n",
    "def one_hot(Y):\n",
    "    arr_Y = np.zeros([Y.size, 10])\n",
    "    arr_Y[np.arange(Y.size), Y] = 1;\n",
    "    return arr_Y\n",
    "\n",
    "\n",
    "# Xn dimensions: 0 is number of batches, 1 is number of inputs per sample, 2 is batch size\n",
    "# Yn dimensions: 0 is number of batches, 1 is one-hot encoded values, 2 is batch size\n",
    "def div_batches(X_data, Y_data, batch_size):\n",
    "    d_size = len(X_data)\n",
    "    num_batches = d_size // batch_size\n",
    "    input_size = X_data.shape[1]\n",
    "    Xn = np.transpose(X_data.reshape(num_batches, batch_size, input_size), (0,2,1))\n",
    "    Yn = np.transpose(one_hot(Y_data).reshape(num_batches, batch_size, 10), (0,2,1))\n",
    "    return Xn, Yn\n"
   ]
  },
  {
   "cell_type": "code",
   "execution_count": 3,
   "id": "7a2ceafc",
   "metadata": {
    "execution": {
     "iopub.execute_input": "2023-12-30T19:08:09.342202Z",
     "iopub.status.busy": "2023-12-30T19:08:09.341721Z",
     "iopub.status.idle": "2023-12-30T19:08:13.816895Z",
     "shell.execute_reply": "2023-12-30T19:08:13.815427Z"
    },
    "papermill": {
     "duration": 4.48607,
     "end_time": "2023-12-30T19:08:13.820067",
     "exception": false,
     "start_time": "2023-12-30T19:08:09.333997",
     "status": "completed"
    },
    "tags": []
   },
   "outputs": [],
   "source": [
    "data = pd.read_csv('/kaggle/input/digit-recognizer/train.csv')"
   ]
  },
  {
   "cell_type": "code",
   "execution_count": 4,
   "id": "b97657c1",
   "metadata": {
    "execution": {
     "iopub.execute_input": "2023-12-30T19:08:13.834832Z",
     "iopub.status.busy": "2023-12-30T19:08:13.834259Z",
     "iopub.status.idle": "2023-12-30T19:08:14.059898Z",
     "shell.execute_reply": "2023-12-30T19:08:14.058266Z"
    },
    "papermill": {
     "duration": 0.236816,
     "end_time": "2023-12-30T19:08:14.063057",
     "exception": false,
     "start_time": "2023-12-30T19:08:13.826241",
     "status": "completed"
    },
    "tags": []
   },
   "outputs": [
    {
     "data": {
      "text/plain": [
       "(42000, 785)"
      ]
     },
     "execution_count": 4,
     "metadata": {},
     "output_type": "execute_result"
    }
   ],
   "source": [
    "arr_data = np.array(data)\n",
    "arr_data.shape"
   ]
  },
  {
   "cell_type": "code",
   "execution_count": 5,
   "id": "ec975d20",
   "metadata": {
    "execution": {
     "iopub.execute_input": "2023-12-30T19:08:14.078761Z",
     "iopub.status.busy": "2023-12-30T19:08:14.077498Z",
     "iopub.status.idle": "2023-12-30T19:08:14.088561Z",
     "shell.execute_reply": "2023-12-30T19:08:14.086875Z"
    },
    "papermill": {
     "duration": 0.022647,
     "end_time": "2023-12-30T19:08:14.091965",
     "exception": false,
     "start_time": "2023-12-30T19:08:14.069318",
     "status": "completed"
    },
    "tags": []
   },
   "outputs": [
    {
     "name": "stdout",
     "output_type": "stream",
     "text": [
      "m =  42000  n =  785\n",
      "(41000, 784)\n",
      "(41000,)\n"
     ]
    }
   ],
   "source": [
    "# prepare data\n",
    "m, n = arr_data.shape\n",
    "split = 1000\n",
    "print(\"m = \", m, \" n = \", n)\n",
    "\n",
    "data_dev = arr_data[0:split]\n",
    "data_train = (arr_data[split:m])\n",
    "\n",
    "Y_train = data_train[:,0] # first column\n",
    "X_train = data_train[:,1:] # all after first column\n",
    "print(X_train.shape)\n",
    "print(Y_train.shape)\n",
    "\n",
    "Y_dev = data_dev[:,0]\n",
    "X_dev = data_dev[:,1:]\n"
   ]
  },
  {
   "cell_type": "code",
   "execution_count": 6,
   "id": "a650d2d0",
   "metadata": {
    "execution": {
     "iopub.execute_input": "2023-12-30T19:08:14.107368Z",
     "iopub.status.busy": "2023-12-30T19:08:14.106921Z",
     "iopub.status.idle": "2023-12-30T19:08:14.399656Z",
     "shell.execute_reply": "2023-12-30T19:08:14.398194Z"
    },
    "papermill": {
     "duration": 0.305046,
     "end_time": "2023-12-30T19:08:14.403329",
     "exception": false,
     "start_time": "2023-12-30T19:08:14.098283",
     "status": "completed"
    },
    "tags": []
   },
   "outputs": [],
   "source": [
    "Xs, Ys = div_batches(X_train, Y_train, 20)\n",
    "Xs = standard(Xs)"
   ]
  },
  {
   "cell_type": "code",
   "execution_count": 7,
   "id": "eb42e21f",
   "metadata": {
    "execution": {
     "iopub.execute_input": "2023-12-30T19:08:14.418850Z",
     "iopub.status.busy": "2023-12-30T19:08:14.418290Z",
     "iopub.status.idle": "2023-12-30T19:08:14.433610Z",
     "shell.execute_reply": "2023-12-30T19:08:14.432510Z"
    },
    "papermill": {
     "duration": 0.026897,
     "end_time": "2023-12-30T19:08:14.436836",
     "exception": false,
     "start_time": "2023-12-30T19:08:14.409939",
     "status": "completed"
    },
    "tags": []
   },
   "outputs": [],
   "source": [
    "class Layer:\n",
    "    \n",
    "    # n = outputs, neurons\n",
    "    # m = inputs, weights per neuron\n",
    "    def __init__(self, m, n, lr):\n",
    "        stdev = np.sqrt(2.0 / m) # Xavier initialization\n",
    "        self.weights = np.random.randn(n, m) * stdev\n",
    "        self.bias = (np.random.rand(n, 1) - 0.5) * 0.01\n",
    "        self.lr = lr\n",
    "        \n",
    "    def forward(self, x):\n",
    "        self.x = x\n",
    "        self.z = self.weights @ self.x + self.bias\n",
    "        self.a = np.tanh(self.z)\n",
    "        return self.a\n",
    "    \n",
    "    def backward(self, dout):\n",
    "        self.dz = dout * tanh_prime(self.z)\n",
    "        self.dw = self.dz @ self.x.T\n",
    "        self.db = np.mean(self.dz, axis=1).reshape(len(self.bias), 1)\n",
    "        self.dx = self.weights.T @ self.dz  \n",
    "        return self.dx\n",
    "\n",
    "    def update(self):\n",
    "        self.weights = self.weights - self.lr * self.dw \n",
    "        self.bias = self.bias - self.lr * self.db "
   ]
  },
  {
   "cell_type": "code",
   "execution_count": 8,
   "id": "c9636df4",
   "metadata": {
    "execution": {
     "iopub.execute_input": "2023-12-30T19:08:14.452565Z",
     "iopub.status.busy": "2023-12-30T19:08:14.451372Z",
     "iopub.status.idle": "2023-12-30T19:08:14.456259Z",
     "shell.execute_reply": "2023-12-30T19:08:14.455379Z"
    },
    "papermill": {
     "duration": 0.015631,
     "end_time": "2023-12-30T19:08:14.458920",
     "exception": false,
     "start_time": "2023-12-30T19:08:14.443289",
     "status": "completed"
    },
    "tags": []
   },
   "outputs": [],
   "source": [
    "# np.random.seed(0)"
   ]
  },
  {
   "cell_type": "code",
   "execution_count": 9,
   "id": "8dedc1b5",
   "metadata": {
    "execution": {
     "iopub.execute_input": "2023-12-30T19:08:14.473996Z",
     "iopub.status.busy": "2023-12-30T19:08:14.473547Z",
     "iopub.status.idle": "2023-12-30T19:08:14.483032Z",
     "shell.execute_reply": "2023-12-30T19:08:14.481660Z"
    },
    "papermill": {
     "duration": 0.021249,
     "end_time": "2023-12-30T19:08:14.486624",
     "exception": false,
     "start_time": "2023-12-30T19:08:14.465375",
     "status": "completed"
    },
    "tags": []
   },
   "outputs": [],
   "source": [
    "# Initialize network\n",
    "L1 = Layer(784, 100, 0.01)\n",
    "L2 = Layer(100, 50, 0.01)\n",
    "L3 = Layer(50, 10, 0.01)\n",
    "losses = []\n",
    "epochs = 3"
   ]
  },
  {
   "cell_type": "code",
   "execution_count": 10,
   "id": "499bd4d1",
   "metadata": {
    "execution": {
     "iopub.execute_input": "2023-12-30T19:08:14.502095Z",
     "iopub.status.busy": "2023-12-30T19:08:14.501658Z",
     "iopub.status.idle": "2023-12-30T19:08:31.376055Z",
     "shell.execute_reply": "2023-12-30T19:08:31.374341Z"
    },
    "papermill": {
     "duration": 16.888632,
     "end_time": "2023-12-30T19:08:31.381596",
     "exception": false,
     "start_time": "2023-12-30T19:08:14.492964",
     "status": "completed"
    },
    "tags": []
   },
   "outputs": [],
   "source": [
    "# gradient descent\n",
    "for e in range(epochs):\n",
    "    for x, y in zip(Xs, Ys):\n",
    "        \n",
    "        a1 = L1.forward(x)\n",
    "        a2 = L2.forward(a1)\n",
    "        a3 = L3.forward(a2)\n",
    "\n",
    "        smax = softmax(a3)\n",
    "        loss = MSE(smax, y)\n",
    "        losses.append(loss)\n",
    "        dOut = MSE_prime(smax, y)\n",
    "\n",
    "        dx3 = L3.backward(dOut)\n",
    "        dx2 = L2.backward(dx3)\n",
    "        L1.backward(dx2)\n",
    "\n",
    "        L1.update()\n",
    "        L2.update()\n",
    "        L3.update()"
   ]
  },
  {
   "cell_type": "code",
   "execution_count": 11,
   "id": "4d0a7424",
   "metadata": {
    "execution": {
     "iopub.execute_input": "2023-12-30T19:08:31.412440Z",
     "iopub.status.busy": "2023-12-30T19:08:31.411681Z",
     "iopub.status.idle": "2023-12-30T19:08:31.699502Z",
     "shell.execute_reply": "2023-12-30T19:08:31.698126Z"
    },
    "papermill": {
     "duration": 0.307111,
     "end_time": "2023-12-30T19:08:31.702635",
     "exception": false,
     "start_time": "2023-12-30T19:08:31.395524",
     "status": "completed"
    },
    "tags": []
   },
   "outputs": [
    {
     "data": {
      "image/png": "[encoded data removed]",
      "text/plain": [
       "<Figure size 432x288 with 1 Axes>"
      ]
     },
     "metadata": {
      "needs_background": "light"
     },
     "output_type": "display_data"
    }
   ],
   "source": [
    "plt.plot(losses)\n",
    "plt.plot(0)\n",
    "plt.show()"
   ]
  },
  {
   "cell_type": "code",
   "execution_count": 12,
   "id": "476b8e76",
   "metadata": {
    "execution": {
     "iopub.execute_input": "2023-12-30T19:08:31.718469Z",
     "iopub.status.busy": "2023-12-30T19:08:31.717985Z",
     "iopub.status.idle": "2023-12-30T19:08:31.729751Z",
     "shell.execute_reply": "2023-12-30T19:08:31.728194Z"
    },
    "papermill": {
     "duration": 0.023996,
     "end_time": "2023-12-30T19:08:31.733477",
     "exception": false,
     "start_time": "2023-12-30T19:08:31.709481",
     "status": "completed"
    },
    "tags": []
   },
   "outputs": [],
   "source": [
    "Xd, _ = div_batches(X_dev, Y_dev, 1) # we do not need to one-hot encode or partition Y_dev\n",
    "Xd = standard(Xd)"
   ]
  },
  {
   "cell_type": "code",
   "execution_count": 13,
   "id": "e82fbb64",
   "metadata": {
    "execution": {
     "iopub.execute_input": "2023-12-30T19:08:31.749307Z",
     "iopub.status.busy": "2023-12-30T19:08:31.748827Z",
     "iopub.status.idle": "2023-12-30T19:08:31.877649Z",
     "shell.execute_reply": "2023-12-30T19:08:31.875899Z"
    },
    "papermill": {
     "duration": 0.142884,
     "end_time": "2023-12-30T19:08:31.883123",
     "exception": false,
     "start_time": "2023-12-30T19:08:31.740239",
     "status": "completed"
    },
    "tags": []
   },
   "outputs": [
    {
     "name": "stdout",
     "output_type": "stream",
     "text": [
      "ACCURACY:  0.944\n"
     ]
    }
   ],
   "source": [
    "# test for accuracy\n",
    "correct = 0\n",
    "total = 1000\n",
    "for x, y in zip(Xd, Y_dev):\n",
    "    \n",
    "    a1 = L1.forward(x)\n",
    "    a2 = L2.forward(a1)\n",
    "    a3 = L3.forward(a2)\n",
    "    \n",
    "    out = np.argmax(a3)\n",
    "    \n",
    "    if out == y:\n",
    "        correct += 1\n",
    "\n",
    "print(\"ACCURACY: \", correct / total)\n"
   ]
  }
 ],
 "metadata": {
  "kaggle": {
   "accelerator": "none",
   "dataSources": [
    {
     "databundleVersionId": 861823,
     "sourceId": 3004,
     "sourceType": "competition"
    }
   ],
   "dockerImageVersionId": 30260,
   "isGpuEnabled": false,
   "isInternetEnabled": false,
   "language": "python",
   "sourceType": "notebook"
  },
  "kernelspec": {
   "display_name": "Python 3",
   "language": "python",
   "name": "python3"
  },
  "language_info": {
   "codemirror_mode": {
    "name": "ipython",
    "version": 3
   },
   "file_extension": ".py",
   "mimetype": "text/x-python",
   "name": "python",
   "nbconvert_exporter": "python",
   "pygments_lexer": "ipython3",
   "version": "3.7.12"
  },
  "papermill": {
   "default_parameters": {},
   "duration": 41.146747,
   "end_time": "2023-12-30T19:08:34.943163",
   "environment_variables": {},
   "exception": null,
   "input_path": "__notebook__.ipynb",
   "output_path": "__notebook__.ipynb",
   "parameters": {},
   "start_time": "2023-12-30T19:07:53.796416",
   "version": "2.3.4"
  }
 },
 "nbformat": 4,
 "nbformat_minor": 5
}
